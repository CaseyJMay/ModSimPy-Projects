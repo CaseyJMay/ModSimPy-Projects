{
 "cells": [
  {
   "cell_type": "code",
   "execution_count": 2,
   "metadata": {},
   "outputs": [],
   "source": [
    "#import all the libraries\n",
    "from modsim import *\n",
    "import random\n",
    "import pandas as pd\n",
    "import numpy as np\n",
    "import matplotlib.pyplot as plt\n",
    "\n",
    "# Configure Jupyter so figures appear in the notebook\n",
    "%matplotlib inline\n",
    "\n",
    "# Configure Jupyter to display the assigned value after an assignment\n",
    "%config InteractiveShell.ast_node_interactivity='last_expr_or_assign'"
   ]
  },
  {
   "cell_type": "markdown",
   "metadata": {},
   "source": [
    "**Stocks**: Uninfected Lymphocytes (R), Latently Infected Lymphocytes (L), Infected Lymphocytes (E), Virions (V)\n",
    "\n",
    "**Parameters**: Uninfected Lymphocyte Production (Gamma), Lymphocyte Activation Rate (Tau), Lymphocyte natural death rate (Mu), Infection Rate Modifier (Beta), Proportion of cells latently infected (Rho), Latently Infected Activation Rate (Alpha), Infected Death Rate (Delta), Free Virion Production Rate (Pi), Free Virion Removal Rate (Sigma)\n",
    "\n",
    "Gamma \\* Tau is constant, Infection Rate = Beta * V\n",
    "\n",
    "**Differential Equations**\n",
    "\n",
    "dR/dt = Gamma\\*Tau - Mu\\*R - Beta\\*R\\*V\n",
    "\n",
    "dL/dt = Rho\\*Beta\\*R\\*V - Mu\\*L - Alpha\\*L\n",
    "\n",
    "dE/dt = (1 - Rho)\\*Beta\\*R\\*V + Alpha\\*L - Delta\\*E\n",
    "\n",
    "dV/dt = Pi\\*E - Sigma\\*V"
   ]
  },
  {
   "cell_type": "code",
   "execution_count": 3,
   "metadata": {},
   "outputs": [
    {
     "data": {
      "text/html": [
       "<div>\n",
       "<style scoped>\n",
       "    .dataframe tbody tr th:only-of-type {\n",
       "        vertical-align: middle;\n",
       "    }\n",
       "\n",
       "    .dataframe tbody tr th {\n",
       "        vertical-align: top;\n",
       "    }\n",
       "\n",
       "    .dataframe thead th {\n",
       "        text-align: right;\n",
       "    }\n",
       "</style>\n",
       "<table border=\"1\" class=\"dataframe\">\n",
       "  <thead>\n",
       "    <tr style=\"text-align: right;\">\n",
       "      <th></th>\n",
       "      <th>values</th>\n",
       "    </tr>\n",
       "  </thead>\n",
       "  <tbody>\n",
       "    <tr>\n",
       "      <th>R</th>\n",
       "      <td>0</td>\n",
       "    </tr>\n",
       "    <tr>\n",
       "      <th>L</th>\n",
       "      <td>0</td>\n",
       "    </tr>\n",
       "    <tr>\n",
       "      <th>E</th>\n",
       "      <td>0</td>\n",
       "    </tr>\n",
       "    <tr>\n",
       "      <th>V</th>\n",
       "      <td>0</td>\n",
       "    </tr>\n",
       "  </tbody>\n",
       "</table>\n",
       "</div>"
      ],
      "text/plain": [
       "R    0\n",
       "L    0\n",
       "E    0\n",
       "V    0\n",
       "dtype: int64"
      ]
     },
     "execution_count": 3,
     "metadata": {},
     "output_type": "execute_result"
    }
   ],
   "source": [
    "init = State(R = 0,\n",
    "             L = 0,\n",
    "             E = 0,\n",
    "             V = 0)"
   ]
  },
  {
   "cell_type": "code",
   "execution_count": 4,
   "metadata": {},
   "outputs": [
    {
     "data": {
      "text/html": [
       "<div>\n",
       "<style scoped>\n",
       "    .dataframe tbody tr th:only-of-type {\n",
       "        vertical-align: middle;\n",
       "    }\n",
       "\n",
       "    .dataframe tbody tr th {\n",
       "        vertical-align: top;\n",
       "    }\n",
       "\n",
       "    .dataframe thead th {\n",
       "        text-align: right;\n",
       "    }\n",
       "</style>\n",
       "<table border=\"1\" class=\"dataframe\">\n",
       "  <thead>\n",
       "    <tr style=\"text-align: right;\">\n",
       "      <th></th>\n",
       "      <th>values</th>\n",
       "    </tr>\n",
       "  </thead>\n",
       "  <tbody>\n",
       "    <tr>\n",
       "      <th>gamma</th>\n",
       "      <td>0</td>\n",
       "    </tr>\n",
       "    <tr>\n",
       "      <th>tau</th>\n",
       "      <td>0</td>\n",
       "    </tr>\n",
       "    <tr>\n",
       "      <th>mu</th>\n",
       "      <td>0</td>\n",
       "    </tr>\n",
       "    <tr>\n",
       "      <th>beta</th>\n",
       "      <td>0</td>\n",
       "    </tr>\n",
       "    <tr>\n",
       "      <th>rho</th>\n",
       "      <td>0</td>\n",
       "    </tr>\n",
       "    <tr>\n",
       "      <th>alpha</th>\n",
       "      <td>0</td>\n",
       "    </tr>\n",
       "    <tr>\n",
       "      <th>delta</th>\n",
       "      <td>0</td>\n",
       "    </tr>\n",
       "    <tr>\n",
       "      <th>pi</th>\n",
       "      <td>0</td>\n",
       "    </tr>\n",
       "    <tr>\n",
       "      <th>sigma</th>\n",
       "      <td>0</td>\n",
       "    </tr>\n",
       "  </tbody>\n",
       "</table>\n",
       "</div>"
      ],
      "text/plain": [
       "gamma    0\n",
       "tau      0\n",
       "mu       0\n",
       "beta     0\n",
       "rho      0\n",
       "alpha    0\n",
       "delta    0\n",
       "pi       0\n",
       "sigma    0\n",
       "dtype: int64"
      ]
     },
     "execution_count": 4,
     "metadata": {},
     "output_type": "execute_result"
    }
   ],
   "source": [
    "sys = System(gamma = 0,\n",
    "             tau   = 0,\n",
    "             mu    = 0,\n",
    "             beta  = 0,\n",
    "             rho   = 0,\n",
    "             alpha = 0,\n",
    "             delta = 0,\n",
    "             pi    = 0, \n",
    "             sigma = 0)"
   ]
  },
  {
   "cell_type": "code",
   "execution_count": null,
   "metadata": {},
   "outputs": [],
   "source": [
    "def update(system, state):\n",
    "    R  = state.R\n",
    "    L  = state.L\n",
    "    E  = state.E\n",
    "    V  = state.V\n",
    "    dR = system.gamma*system.tau - system.mu*R - system.beta*R*V\n",
    "    dL = system.rho*system.beta*R*V - system.mu*L - system.alpha*L\n",
    "    dE = (1 - system.rho)*system.beta*R*V + system.alpha*L - system.delta*E\n",
    "    dV = system.pi*E - system.sigma*V"
   ]
  }
 ],
 "metadata": {
  "kernelspec": {
   "display_name": "Python 3",
   "language": "python",
   "name": "python3"
  },
  "language_info": {
   "codemirror_mode": {
    "name": "ipython",
    "version": 3
   },
   "file_extension": ".py",
   "mimetype": "text/x-python",
   "name": "python",
   "nbconvert_exporter": "python",
   "pygments_lexer": "ipython3",
   "version": "3.6.6"
  }
 },
 "nbformat": 4,
 "nbformat_minor": 2
}
