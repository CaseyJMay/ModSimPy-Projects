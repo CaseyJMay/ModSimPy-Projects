{
 "cells": [
  {
   "cell_type": "markdown",
   "metadata": {},
   "source": [
    "# How does population look like when the impacts of the HIV/AIDS epidemic is disregarded?\n",
    "\n",
    "Skye Ozga, HK Rho"
   ]
  },
  {
   "cell_type": "markdown",
   "metadata": {},
   "source": [
    "### Reading the Data"
   ]
  },
  {
   "cell_type": "code",
   "execution_count": 12,
   "metadata": {},
   "outputs": [],
   "source": [
    "#######NEW PROJECT########\n",
    "#QUESTION: compare the actual data graph population to the graph without the HIV/AIDS epidemic \n",
    "#          so that we can see by what factor the population differs in two situations\n",
    "\n",
    "import random\n",
    "import pandas as pd\n",
    "\n",
    "# Configure Jupyter so figures appear in the notebook\n",
    "%matplotlib inline\n",
    "\n",
    "# Configure Jupyter to display the assigned value after an assignment\n",
    "%config InteractiveShell.ast_node_interactivity='last_expr_or_assign'\n",
    "\n",
    "# import functions from the modsim library\n",
    "from modsim import *\n",
    "\n",
    "import numpy as np\n",
    "\n",
    "def mean(x,y):\n",
    "    return (x+y)/2"
   ]
  },
  {
   "cell_type": "markdown",
   "metadata": {},
   "source": [
    "population change, birth rate, death rate change due to the aids epidemic in Sub-Saharan Africa\n",
    "\n",
    "Question:\n",
    "By what factor will the population change if the effects of the HIV/AIDS epidemic are disregarded compared to the actual population graph?\n",
    "\n",
    "Methodology/Model:\n",
    "The deaths caused by HIV/AIDS can be disregarded from the overall death rate of the entire population of the country we are analyzing, so that we can compare two situations with and without HIV/AIDS.\n",
    "\n",
    "Results:\n",
    "There is no results yet, but the results will consist of two graphs that each show the population change with and without HIV/AIDS.\n",
    "\n",
    "Interpretation:\n",
    "After generating the graphs, the amount by which one differs from the other can be observed/calculated."
   ]
  },
  {
   "cell_type": "code",
   "execution_count": 30,
   "metadata": {},
   "outputs": [
    {
     "name": "stdout",
     "output_type": "stream",
     "text": [
      "           Unnamed: 1\n",
      "0   All ages estimate\n",
      "1                1900\n",
      "2                3600\n",
      "3                6400\n",
      "4              11 000\n",
      "5              18 000\n",
      "6              28 000\n",
      "7              42 000\n",
      "8              59 000\n",
      "9              79 000\n",
      "10            100 000\n",
      "11            130 000\n",
      "12            160 000\n",
      "13            190 000\n",
      "14            220 000\n",
      "15            240 000\n",
      "16            260 000\n",
      "17            260 000\n",
      "18            260 000\n",
      "19            240 000\n",
      "20            210 000\n",
      "21            200 000\n",
      "22            170 000\n",
      "23            130 000\n",
      "24            110 000\n",
      "25            110 000\n",
      "26            110 000\n",
      "27            100 000\n",
      "28            110 000\n"
     ]
    }
   ],
   "source": [
    "#DA = Deaths due to AIDS of all ages\n",
    "#AIDS years: 1990-2017\n",
    "angolaDA = pd.read_csv(\"angolaDA.csv\", usecols = [1])\n",
    "zambiaDA = pd.read_csv(\"zambiaDA.csv\", usecols = [1])\n",
    "malawiDA = pd.read_csv(\"malawiDA.csv\", usecols = [1])\n",
    "mozambiqueDA = pd.read_csv(\"mozambiqueDA.csv\", usecols = [1])\n",
    "zimbabweDA = pd.read_csv(\"zimbabweDA.csv\", usecols = [1])\n",
    "namibiaDA = pd.read_csv(\"namibiaDA.csv\", usecols = [1])\n",
    "botswanaDA = pd.read_csv(\"botswanaDA.csv\", usecols = [1])\n",
    "eswatiniDA = pd.read_csv(\"eswatiniDA.csv\", usecols = [1])\n",
    "lesothoDA = pd.read_csv(\"lesothoDA.csv\", usecols = [1])\n",
    "sAfricaDA = pd.read_csv(\"sAfricaDA.csv\", usecols = [1])\n",
    "\n",
    "#population from 2000-2017\n",
    "angolaPOP = [16440924, 16983266, 17572649, 18203369, 18865716, 19552542, 20262399, 20997687, 21759420, 22549547, 23369131, \n",
    "             24218565, 25096150,25998340, 27859305, 28813463, 29784193]\n",
    "\n",
    "#BR = birth rate\n",
    "#it's the birth rate per 1000 people\n",
    "angolaBR =      [49.0, 48.8, 48.5, 48.3, 48.0, 47.7, 47.4, 46.9, 46.5, 45.9, 45.3, 44.7, 44.1, 43.4, 42.9, 42.3, 41.8]\n",
    "\n",
    "#DR = death rate\n",
    "#it's the death rate per 1000 people\n",
    "angolaDR = [17.9, 17.0, 16.2, 15.4, 14.5, 13.8, 13.0, 12.3, 11.7, 11.0, 10.5, 9.9, 9.5, 9.2, 8.9, 8.7, 8.5]\n",
    "\n",
    "years = [x for x in range(2000,2017)];"
   ]
  },
  {
   "cell_type": "code",
   "execution_count": 5,
   "metadata": {},
   "outputs": [
    {
     "data": {
      "text/plain": [
       "[<matplotlib.lines.Line2D at 0x1dfbc0b42b0>]"
      ]
     },
     "execution_count": 5,
     "metadata": {},
     "output_type": "execute_result"
    },
    {
     "data": {
      "image/png": "[encoded data removed]",
      "text/plain": [
       "<Figure size 432x288 with 1 Axes>"
      ]
     },
     "metadata": {},
     "output_type": "display_data"
    }
   ],
   "source": [
    "#plot angola pop data\n",
    "plot(years,angolaPOP)"
   ]
  },
  {
   "cell_type": "code",
   "execution_count": 6,
   "metadata": {},
   "outputs": [
    {
     "data": {
      "text/plain": [
       "[<matplotlib.lines.Line2D at 0x1dfbc143390>]"
      ]
     },
     "execution_count": 6,
     "metadata": {},
     "output_type": "execute_result"
    },
    {
     "data": {
      "image/png": "[encoded data removed]",
      "text/plain": [
       "<Figure size 432x288 with 1 Axes>"
      ]
     },
     "metadata": {},
     "output_type": "display_data"
    }
   ],
   "source": [
    "#plot angola birthrate\n",
    "plot(years,angolaBR)"
   ]
  },
  {
   "cell_type": "code",
   "execution_count": 7,
   "metadata": {},
   "outputs": [
    {
     "data": {
      "text/plain": [
       "[<matplotlib.lines.Line2D at 0x1dfbc199cc0>]"
      ]
     },
     "execution_count": 7,
     "metadata": {},
     "output_type": "execute_result"
    },
    {
     "data": {
      "image/png": "[encoded data removed]",
      "text/plain": [
       "<Figure size 432x288 with 1 Axes>"
      ]
     },
     "metadata": {},
     "output_type": "display_data"
    }
   ],
   "source": [
    "#plot angola deathrate\n",
    "plot(years,angolaDR)"
   ]
  },
  {
   "cell_type": "code",
   "execution_count": null,
   "metadata": {},
   "outputs": [],
   "source": []
  }
 ],
 "metadata": {
  "kernelspec": {
   "display_name": "Python 3",
   "language": "python",
   "name": "python3"
  },
  "language_info": {
   "codemirror_mode": {
    "name": "ipython",
    "version": 3
   },
   "file_extension": ".py",
   "mimetype": "text/x-python",
   "name": "python",
   "nbconvert_exporter": "python",
   "pygments_lexer": "ipython3",
   "version": "3.6.6"
  }
 },
 "nbformat": 4,
 "nbformat_minor": 2
}
